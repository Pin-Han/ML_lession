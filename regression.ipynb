{
  "nbformat": 4,
  "nbformat_minor": 0,
  "metadata": {
    "colab": {
      "provenance": [],
      "authorship_tag": "ABX9TyP/sX0gpatBP/We7rhCnGtu",
      "include_colab_link": true
    },
    "kernelspec": {
      "name": "python3",
      "display_name": "Python 3"
    },
    "language_info": {
      "name": "python"
    }
  },
  "cells": [
    {
      "cell_type": "markdown",
      "metadata": {
        "id": "view-in-github",
        "colab_type": "text"
      },
      "source": [
        "<a href=\"https://colab.research.google.com/github/Pin-Han/ML_lession/blob/lesson_3/regression.ipynb\" target=\"_parent\"><img src=\"https://colab.research.google.com/assets/colab-badge.svg\" alt=\"Open In Colab\"/></a>"
      ]
    },
    {
      "cell_type": "markdown",
      "source": [
        "Importing the libiraries"
      ],
      "metadata": {
        "id": "qimYXAGSNe-C"
      }
    },
    {
      "cell_type": "code",
      "execution_count": 4,
      "metadata": {
        "id": "dhaKZj9XNaw5"
      },
      "outputs": [],
      "source": [
        "import numpy as np\n",
        "import matplotlib.pyplot as plt\n",
        "import pandas as pd"
      ]
    },
    {
      "cell_type": "markdown",
      "source": [
        "Importing the dataset"
      ],
      "metadata": {
        "id": "3D0-jjikBzz2"
      }
    },
    {
      "cell_type": "code",
      "source": [
        "dataset=pd.read_csv('Data.csv')\n",
        "x = dataset.iloc[:,  :-1].values #第一個 : 是選擇所有行，第二個 :-1 是所有列(但撇除最右邊的那列)\n",
        "y = dataset.iloc[:,  -1].values #取最後一行內容"
      ],
      "metadata": {
        "id": "eTz2BLRbNeOs"
      },
      "execution_count": 7,
      "outputs": []
    },
    {
      "cell_type": "code",
      "source": [
        "print(x)"
      ],
      "metadata": {
        "id": "8kHx_k1sAARu",
        "colab": {
          "base_uri": "https://localhost:8080/"
        },
        "outputId": "cf78c3c6-5e70-4821-b66d-f639e7db0dfc"
      },
      "execution_count": 8,
      "outputs": [
        {
          "output_type": "stream",
          "name": "stdout",
          "text": [
            "[['France' 44.0 72000.0]\n",
            " ['Spain' 27.0 48000.0]\n",
            " ['Germany' 30.0 54000.0]\n",
            " ['Spain' 38.0 61000.0]\n",
            " ['Germany' 40.0 nan]\n",
            " ['France' 35.0 58000.0]\n",
            " ['Spain' nan 52000.0]\n",
            " ['France' 48.0 79000.0]\n",
            " ['Germany' 50.0 83000.0]\n",
            " ['France' 37.0 67000.0]]\n"
          ]
        }
      ]
    },
    {
      "cell_type": "code",
      "source": [
        "print(y)"
      ],
      "metadata": {
        "id": "srN0tmo9ACod",
        "colab": {
          "base_uri": "https://localhost:8080/"
        },
        "outputId": "ad90a305-281d-4a08-93a9-5a21835c4d04"
      },
      "execution_count": 9,
      "outputs": [
        {
          "output_type": "stream",
          "name": "stdout",
          "text": [
            "['No' 'Yes' 'No' 'No' 'Yes' 'Yes' 'No' 'Yes' 'No' 'Yes']\n"
          ]
        }
      ]
    },
    {
      "cell_type": "markdown",
      "source": [
        "Taking care of missing data"
      ],
      "metadata": {
        "id": "OFa6kUOjNlru"
      }
    },
    {
      "cell_type": "code",
      "source": [
        "from sklearn.impute import SimpleImputer\n",
        "imputer = SimpleImputer(missing_values=np.nan, strategy='mean')\n",
        "# 尋找 Nan (np.nan)，替換策略為 mean。 mean 為 非缺失值得平均值\n",
        "\n",
        "imputer.fit(x[:,1:3]) # fit() 為計算數據統計量\n",
        "x[:, 1:3]=imputer.transform(x[:, 1:3]) # transform() 為將統計量替換到實際數據上\n"
      ],
      "metadata": {
        "id": "9nQCeLhSCIL7"
      },
      "execution_count": 10,
      "outputs": []
    },
    {
      "cell_type": "code",
      "source": [
        "print(x)"
      ],
      "metadata": {
        "id": "icBcwkmbILNe",
        "colab": {
          "base_uri": "https://localhost:8080/"
        },
        "outputId": "db244ed8-02a9-44c9-d8f0-b76550dc2668"
      },
      "execution_count": null,
      "outputs": [
        {
          "output_type": "stream",
          "name": "stdout",
          "text": [
            "[['France' 44.0 72000.0]\n",
            " ['Spain' 27.0 48000.0]\n",
            " ['Germany' 30.0 54000.0]\n",
            " ['Spain' 38.0 61000.0]\n",
            " ['Germany' 40.0 63777.77777777778]\n",
            " ['France' 35.0 58000.0]\n",
            " ['Spain' 38.77777777777778 52000.0]\n",
            " ['France' 48.0 79000.0]\n",
            " ['Germany' 50.0 83000.0]\n",
            " ['France' 37.0 67000.0]]\n"
          ]
        }
      ]
    },
    {
      "cell_type": "markdown",
      "source": [
        "Encoding categorical data"
      ],
      "metadata": {
        "id": "LXSewPrpgQ-N"
      }
    },
    {
      "cell_type": "code",
      "source": [
        "from sklearn.compose import ColumnTransformer # 用來創建一個列轉換器對象的 class，指定對數據集中的特定列進行特定的處理\n",
        "from sklearn.preprocessing import OneHotEncoder # 這是一個列表，列表中的每個元素都是一個元組（tuple），用來指定對特定列應用哪種轉換器\n",
        "\n",
        "ct = ColumnTransformer(transformers=[('encoder', OneHotEncoder(), [0])], remainder='passthrough')\n",
        "\n",
        "# transformers 這是一個列表，列表中的每個元素都是一個元組（tuple），用來指定對特定列應用哪種轉換器\n",
        "# 只有一個元組 ('encoder', OneHotEncoder(), [0])：'encoder' 是這個轉換器的名稱，這個名字是任意的，用於標識和參考轉換器。\n",
        "# OneHotEncoder() 是轉換器對象，這裡應用了 OneHotEncoder 來對指定列進行一位有效編碼。\n",
        "# [0] 指定了要轉換的列的索引，這裡是數據集中的第一列，即 Country\n",
        "# 這個參數設定了對於未在 transformers 列表中明確指定的列應該怎麼處理。'passthrough' 表示除了在 transformers 中指定的列之外，其他所有列都會不經修改地“通過”到輸出數據中。這保證了數據集中未經轉換的部分仍然保留在最終處理後的數據集中\n",
        "\n",
        "x = np.array(ct.fit_transform(x))\n",
        "\n",
        "print(x)\n"
      ],
      "metadata": {
        "id": "-i8oKscVgUQ4",
        "colab": {
          "base_uri": "https://localhost:8080/"
        },
        "outputId": "d1e6b213-e1e4-4850-89ef-674e1c84c5ae"
      },
      "execution_count": 11,
      "outputs": [
        {
          "output_type": "stream",
          "name": "stdout",
          "text": [
            "[[1.0 0.0 0.0 44.0 72000.0]\n",
            " [0.0 0.0 1.0 27.0 48000.0]\n",
            " [0.0 1.0 0.0 30.0 54000.0]\n",
            " [0.0 0.0 1.0 38.0 61000.0]\n",
            " [0.0 1.0 0.0 40.0 63777.77777777778]\n",
            " [1.0 0.0 0.0 35.0 58000.0]\n",
            " [0.0 0.0 1.0 38.77777777777778 52000.0]\n",
            " [1.0 0.0 0.0 48.0 79000.0]\n",
            " [0.0 1.0 0.0 50.0 83000.0]\n",
            " [1.0 0.0 0.0 37.0 67000.0]]\n"
          ]
        }
      ]
    },
    {
      "cell_type": "markdown",
      "source": [
        "Encoding the dependent variable"
      ],
      "metadata": {
        "id": "6Jh3LTV9pPB6"
      }
    },
    {
      "cell_type": "code",
      "source": [
        "from sklearn.preprocessing import LabelEncoder\n",
        "le = LabelEncoder()\n",
        "y = le.fit_transform(y)\n",
        "print(y)"
      ],
      "metadata": {
        "colab": {
          "base_uri": "https://localhost:8080/"
        },
        "id": "KIu2CKDGpU5I",
        "outputId": "9fec8b2f-ff84-4ad5-bbf8-87e0d5d26fd6"
      },
      "execution_count": 12,
      "outputs": [
        {
          "output_type": "stream",
          "name": "stdout",
          "text": [
            "[0 1 0 0 1 1 0 1 0 1]\n"
          ]
        }
      ]
    },
    {
      "cell_type": "markdown",
      "source": [
        "Splitting the dataset into the Training set and Test set"
      ],
      "metadata": {
        "id": "BrOvmhdZvPDr"
      }
    },
    {
      "cell_type": "code",
      "source": [
        "from sklearn.model_selection import train_test_split\n",
        "x_train, x_test, y_train, y_test = train_test_split(x, y, test_size=0.2, random_state=1)\n",
        "#random_state=1 是一個控制隨機數生成的參數，確保每次執行代碼時，數據的隨機分割方式保持一致。這在實驗的可重現性方面非常重要。\n",
        "\n"
      ],
      "metadata": {
        "id": "mvs-qzie2Kt5"
      },
      "execution_count": 15,
      "outputs": []
    },
    {
      "cell_type": "code",
      "source": [
        "print(x_train)"
      ],
      "metadata": {
        "colab": {
          "base_uri": "https://localhost:8080/"
        },
        "id": "lRlydzQ45PoY",
        "outputId": "157252d4-5908-4fbd-e64d-9f5b20c4dc6f"
      },
      "execution_count": 16,
      "outputs": [
        {
          "output_type": "stream",
          "name": "stdout",
          "text": [
            "[[0.0 0.0 1.0 38.77777777777778 52000.0]\n",
            " [0.0 1.0 0.0 40.0 63777.77777777778]\n",
            " [1.0 0.0 0.0 44.0 72000.0]\n",
            " [0.0 0.0 1.0 38.0 61000.0]\n",
            " [0.0 0.0 1.0 27.0 48000.0]\n",
            " [1.0 0.0 0.0 48.0 79000.0]\n",
            " [0.0 1.0 0.0 50.0 83000.0]\n",
            " [1.0 0.0 0.0 35.0 58000.0]]\n"
          ]
        }
      ]
    },
    {
      "cell_type": "code",
      "source": [
        "print(x_test)"
      ],
      "metadata": {
        "colab": {
          "base_uri": "https://localhost:8080/"
        },
        "id": "SlgiWTbK5Pw3",
        "outputId": "a34130b4-c692-461b-8bd4-f0115981282a"
      },
      "execution_count": 17,
      "outputs": [
        {
          "output_type": "stream",
          "name": "stdout",
          "text": [
            "[[0.0 1.0 0.0 30.0 54000.0]\n",
            " [1.0 0.0 0.0 37.0 67000.0]]\n"
          ]
        }
      ]
    },
    {
      "cell_type": "code",
      "source": [
        "print(y_train)"
      ],
      "metadata": {
        "colab": {
          "base_uri": "https://localhost:8080/"
        },
        "id": "r4f1jyw55P6D",
        "outputId": "1b3369f4-6c0b-4ae0-fa54-21d3409710f5"
      },
      "execution_count": 18,
      "outputs": [
        {
          "output_type": "stream",
          "name": "stdout",
          "text": [
            "[0 1 0 0 1 1 0 1]\n"
          ]
        }
      ]
    },
    {
      "cell_type": "code",
      "source": [
        "print(y_test)"
      ],
      "metadata": {
        "colab": {
          "base_uri": "https://localhost:8080/"
        },
        "id": "XKVX1a3K5QBl",
        "outputId": "9916db34-54ba-409a-9109-685b0cfa9776"
      },
      "execution_count": 19,
      "outputs": [
        {
          "output_type": "stream",
          "name": "stdout",
          "text": [
            "[0 1]\n"
          ]
        }
      ]
    },
    {
      "cell_type": "markdown",
      "source": [
        "Feature scaling"
      ],
      "metadata": {
        "id": "1Y8JbCyW6L3q"
      }
    },
    {
      "cell_type": "code",
      "source": [],
      "metadata": {
        "id": "p1BdVvae6N2c"
      },
      "execution_count": null,
      "outputs": []
    }
  ]
}